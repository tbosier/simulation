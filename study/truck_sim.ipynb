{
 "cells": [
  {
   "cell_type": "code",
   "execution_count": 2,
   "metadata": {},
   "outputs": [
    {
     "name": "stdout",
     "output_type": "stream",
     "text": [
      "Total repair cost for all trucks: $11713500\n",
      "Total breakdowns over 90 days\n"
     ]
    }
   ],
   "source": [
    "import simpy\n",
    "import random\n",
    "\n",
    "# Global variable to keep track of total repair costs\n",
    "total_repair_cost = 0\n",
    "total_breakdowns = 0\n",
    "\n",
    "class Truck:\n",
    "    def __init__(self, env, name, maintenance_shop):\n",
    "        self.env = env\n",
    "        self.name = name\n",
    "        self.broken = False\n",
    "        self.maintenance_shop = maintenance_shop\n",
    "        self.distance_driven = 0\n",
    "        self.breakdown_probability = 0.01  # starting probability of breaking down\n",
    "\n",
    "        # Start the truck process\n",
    "        self.action = env.process(self.run())\n",
    "\n",
    "    def run(self):\n",
    "        global total_repair_cost\n",
    "        global total_breakdowns\n",
    "        while True:\n",
    "            # Drive for a week\n",
    "            yield self.env.timeout(7)\n",
    "            \n",
    "            # Increment the distance driven\n",
    "            self.distance_driven += random.gauss(1000, 200)  # hypothetical distribution\n",
    "\n",
    "            # Check if the truck has broken down\n",
    "            if random.random() < self.breakdown_probability:\n",
    "                self.broken = True\n",
    "                self.env.process(self.maintenance())\n",
    "\n",
    "            # Increase the probability of breaking down as the weeks go by\n",
    "            self.breakdown_probability += 0.01\n",
    "\n",
    "    def maintenance(self):\n",
    "        yield self.env.timeout(1)  # Truck is out of market for 1 day\n",
    "        self.broken = False\n",
    "        cost = 1500\n",
    "        global total_repair_cost\n",
    "        total_repair_cost += cost\n",
    "        global total_breakdowns\n",
    "        total_breakdowns += 1\n",
    "\n",
    "\n",
    "# Create the simulation environment\n",
    "env = simpy.Environment()\n",
    "\n",
    "# Create a maintenance shop resource (assuming infinite capacity)\n",
    "maintenance_shop = simpy.Resource(env, capacity=float(\"inf\"))\n",
    "\n",
    "# Create n trucks\n",
    "n = 10000\n",
    "trucks = [Truck(env, f'Truck-{i}', maintenance_shop) for i in range(n)]\n",
    "\n",
    "# Run the simulation for x days\n",
    "days = 90\n",
    "env.run(until=days)\n",
    "\n",
    "# Output the total repair cost\n",
    "print(f\"Total repair cost for all trucks: ${total_repair_cost}\")\n",
    "print(f\"Total breakdowns over {days} days\")"
   ]
  },
  {
   "cell_type": "code",
   "execution_count": null,
   "metadata": {},
   "outputs": [],
   "source": []
  }
 ],
 "metadata": {
  "kernelspec": {
   "display_name": ".venv",
   "language": "python",
   "name": "python3"
  },
  "language_info": {
   "codemirror_mode": {
    "name": "ipython",
    "version": 3
   },
   "file_extension": ".py",
   "mimetype": "text/x-python",
   "name": "python",
   "nbconvert_exporter": "python",
   "pygments_lexer": "ipython3",
   "version": "3.11.0"
  },
  "orig_nbformat": 4
 },
 "nbformat": 4,
 "nbformat_minor": 2
}
